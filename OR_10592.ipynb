{
 "cells": [
  {
   "cell_type": "markdown",
   "metadata": {},
   "source": [
    "ΕΠΙΧΕΙΡΗΣΙΑΚΉ ΈΡΕΥΝΑ "
   ]
  },
  {
   "cell_type": "markdown",
   "metadata": {},
   "source": [
    "ΕΡΓΑΣΊΑ 8ΟΥ ΕΞΑΜΉΝΟΥ 2024"
   ]
  },
  {
   "cell_type": "markdown",
   "metadata": {},
   "source": [
    "ΧΡΙΣΤΊΝΑ ΤΣΑΡΆΒΑ"
   ]
  },
  {
   "cell_type": "markdown",
   "metadata": {},
   "source": [
    "ΑΕΜ: 10592"
   ]
  },
  {
   "cell_type": "markdown",
   "metadata": {},
   "source": [
    "ctsarava@ece.auth.gr"
   ]
  },
  {
   "cell_type": "markdown",
   "metadata": {},
   "source": [
    "<h1><u>1st Problem: Scheduling Flight Landings</h1></u>"
   ]
  },
  {
   "cell_type": "markdown",
   "metadata": {},
   "source": [
    "<h3><u>Setting Up Python Environment</h3></u>\n",
    "\n",
    "To optimize the airplane landing schedule and present the results neatly, we use Python libraries `gurobipy` and `tabulate`. First, we install and import these libraries."
   ]
  },
  {
   "cell_type": "code",
   "execution_count": 105,
   "metadata": {},
   "outputs": [
    {
     "name": "stdout",
     "output_type": "stream",
     "text": [
      "Requirement already satisfied: gurobipy in c:\\users\\chris\\appdata\\local\\programs\\python\\python312\\lib\\site-packages (11.0.2)Note: you may need to restart the kernel to use updated packages.\n",
      "\n",
      "Requirement already satisfied: tabulate in c:\\users\\chris\\appdata\\local\\programs\\python\\python312\\lib\\site-packages (0.9.0)Note: you may need to restart the kernel to use updated packages.\n",
      "\n"
     ]
    }
   ],
   "source": [
    "# Import necessary libraries\n",
    "import gurobipy as gp\n",
    "from gurobipy import GRB\n",
    "from tabulate import tabulate\n",
    "\n",
    "# Install necessary libraries (for Jupyter notebook)\n",
    "%pip install gurobipy\n",
    "%pip install tabulate"
   ]
  },
  {
   "cell_type": "markdown",
   "metadata": {},
   "source": [
    "<h3><u>Defining Input Parameters</h3></u>\n",
    "\n",
    "This section initializes the input data as specified in the problem statement, including arrival times and penalties for each aircraft.\n"
   ]
  },
  {
   "cell_type": "code",
   "execution_count": 106,
   "metadata": {},
   "outputs": [],
   "source": [
    "# Constants\n",
    "LARGE_M = 1000  # Big M value for conditional constraints\n",
    "NUM_PLANES = 10  # Define the number of aircrafts\n",
    "\n",
    "# Define arrival times and costs for each aircraft\n",
    "earliest_arrival = [129, 195, 89, 96, 110, 120, 124, 126, 135, 160]  # Earliest arrival times\n",
    "scheduled_arrival = [155, 258, 96, 106, 123, 135, 138, 140, 150, 180]  # Scheduled arrival times\n",
    "latest_arrival = [559, 744, 510, 521, 555, 576, 577, 573, 591, 657]  # Latest arrival times\n",
    "early_penalty = [10, 10, 30, 30, 30, 30, 30, 30, 30, 30]  # Penalty for early arrival\n",
    "late_penalty = [10, 10, 30, 30, 30, 30, 30, 30, 30, 30]  # Penalty for late arrival\n",
    "\n",
    "# Minimum time between landings for each pair of aircraft\n",
    "min_gap = [\n",
    "    [LARGE_M, 3, 15, 15, 15, 15, 15, 15, 15, 15],\n",
    "    [3, LARGE_M, 15, 15, 15, 15, 15, 15, 15, 15],\n",
    "    [15, 15, LARGE_M, 8, 8, 8, 8, 8, 8, 8],\n",
    "    [15, 15, 8, LARGE_M, 8, 8, 8, 8, 8, 8],\n",
    "    [15, 15, 8, 8, LARGE_M, 8, 8, 8, 8, 8],\n",
    "    [15, 15, 8, 8, 8, LARGE_M, 8, 8, 8, 8],\n",
    "    [15, 15, 8, 8, 8, 8, LARGE_M, 8, 8, 8],\n",
    "    [15, 15, 8, 8, 8, 8, 8, LARGE_M, 8, 8],\n",
    "    [15, 15, 8, 8, 8, 8, 8, 8, LARGE_M, 8],\n",
    "    [15, 15, 8, 8, 8, 8, 8, 8, 8, LARGE_M],\n",
    "]"
   ]
  },
  {
   "cell_type": "markdown",
   "metadata": {},
   "source": [
    "<h3><u>Building the Model</h3></u>\n",
    "\n",
    "We create the optimization model and define the variables using Markov Decision Process (MDP) model. This includes four types of variables: penalties for early and late arrivals, and decision variables to determine the landing order and times.\n"
   ]
  },
  {
   "cell_type": "code",
   "execution_count": 107,
   "metadata": {},
   "outputs": [],
   "source": [
    "# Create optimization model\n",
    "model = gp.Model(\"Aircraft Landing Scheduling\")"
   ]
  },
  {
   "cell_type": "code",
   "execution_count": 108,
   "metadata": {},
   "outputs": [],
   "source": [
    "# Add decision variables for landing times and penalties\n",
    "landing_times = model.addVars(NUM_PLANES, vtype=GRB.CONTINUOUS, name=\"landing_time\")\n",
    "early_fines = model.addVars(NUM_PLANES, vtype=GRB.CONTINUOUS, name=\"early_fine\")\n",
    "late_fines = model.addVars(NUM_PLANES, vtype=GRB.CONTINUOUS, name=\"late_fine\")\n",
    "landing_sequence = model.addVars(NUM_PLANES, NUM_PLANES, vtype=GRB.BINARY, name=\"landing_sequence\")"
   ]
  },
  {
   "cell_type": "markdown",
   "metadata": {},
   "source": [
    "<h3><u>Setting Constraints</h3></u>\n",
    "\n",
    "We define the necessary constraints to ensure feasibility. Planes must land within their designated time windows, maintain the minimum required time gap between landings, and penalties must be non-negative.\n"
   ]
  },
  {
   "cell_type": "code",
   "execution_count": 109,
   "metadata": {},
   "outputs": [],
   "source": [
    "# Add constraints for landing within the time windows\n",
    "for plane in range(NUM_PLANES):\n",
    "    model.addConstr(landing_times[plane] >= earliest_arrival[plane], name=f\"earliest_{plane}\")\n",
    "    model.addConstr(landing_times[plane] <= latest_arrival[plane], name=f\"latest_{plane}\")\n",
    "\n",
    "# Add constraints for minimum time between landings\n",
    "for i in range(NUM_PLANES):\n",
    "    for j in range(i + 1, NUM_PLANES):\n",
    "        model.addConstr(landing_times[i] + min_gap[i][j] <= landing_times[j] + LARGE_M * (1 - landing_sequence[i, j]), name=f\"gap_{i}_{j}_1\")\n",
    "        model.addConstr(landing_times[j] + min_gap[j][i] <= landing_times[i] + LARGE_M * landing_sequence[i, j], name=f\"gap_{i}_{j}_2\")\n",
    "\n",
    "# Add constraints for penalties\n",
    "for plane in range(NUM_PLANES):\n",
    "    model.addConstr(early_fines[plane] >= scheduled_arrival[plane] - landing_times[plane], name=f\"early_fine_{plane}\")\n",
    "    model.addConstr(early_fines[plane] >= 0, name=f\"non_neg_early_{plane}\")\n",
    "    model.addConstr(late_fines[plane] >= landing_times[plane] - scheduled_arrival[plane], name=f\"late_fine_{plane}\")\n",
    "    model.addConstr(late_fines[plane] >= 0, name=f\"non_neg_late_{plane}\")"
   ]
  },
  {
   "cell_type": "markdown",
   "metadata": {},
   "source": [
    "<h3><u>Objective Function Definition</u></h3>\n",
    "\n",
    "The objective function is defined to minimize the total penalty cost. It computes the total penalty for each plane, considering both early and late arrivals, and aims to minimize this sum.\n"
   ]
  },
  {
   "cell_type": "code",
   "execution_count": 110,
   "metadata": {},
   "outputs": [],
   "source": [
    "# Set the objective function to minimize the total penalty\n",
    "model.setObjective(gp.quicksum(early_penalty[plane] * early_fines[plane] + late_penalty[plane] * late_fines[plane] for plane in range(NUM_PLANES)), GRB.MINIMIZE)"
   ]
  },
  {
   "cell_type": "markdown",
   "metadata": {},
   "source": [
    "<h3><u>Running the Optimization</u></h3>\n",
    "\n",
    "The `optimize` method initiates the optimization process, finding the best landing times that minimize the total penalty while satisfying all constraints.\n",
    "\n"
   ]
  },
  {
   "cell_type": "code",
   "execution_count": 111,
   "metadata": {},
   "outputs": [
    {
     "name": "stdout",
     "output_type": "stream",
     "text": [
      "Gurobi Optimizer version 11.0.2 build v11.0.2rc0 (win64 - Windows 10.0 (19045.2))\n",
      "\n",
      "CPU model: AMD Ryzen 7 3700U with Radeon Vega Mobile Gfx, instruction set [SSE2|AVX|AVX2]\n",
      "Thread count: 4 physical cores, 8 logical processors, using up to 8 threads\n",
      "\n",
      "Optimize a model with 150 rows, 130 columns and 350 nonzeros\n",
      "Model fingerprint: 0xab16ea26\n",
      "Variable types: 30 continuous, 100 integer (100 binary)\n",
      "Coefficient statistics:\n",
      "  Matrix range     [1e+00, 1e+03]\n",
      "  Objective range  [1e+01, 3e+01]\n",
      "  Bounds range     [1e+00, 1e+00]\n",
      "  RHS range        [3e+00, 1e+03]\n",
      "Found heuristic solution: objective 5570.0000000\n",
      "Presolve removed 50 rows and 55 columns\n",
      "Presolve time: 0.00s\n",
      "Presolved: 100 rows, 75 columns, 300 nonzeros\n",
      "Variable types: 30 continuous, 45 integer (45 binary)\n",
      "\n",
      "Root relaxation: objective 0.000000e+00, 41 iterations, 0.00 seconds (0.00 work units)\n",
      "\n",
      "    Nodes    |    Current Node    |     Objective Bounds      |     Work\n",
      " Expl Unexpl |  Obj  Depth IntInf | Incumbent    BestBd   Gap | It/Node Time\n",
      "\n",
      "     0     0    0.00000    0    4 5570.00000    0.00000   100%     -    0s\n",
      "H    0     0                    1790.0000000    0.00000   100%     -    0s\n",
      "H    0     0                    1000.0000000    0.00000   100%     -    0s\n",
      "     0     0  318.94607    0    3 1000.00000  318.94607  68.1%     -    0s\n",
      "H    0     0                     700.0000000  348.53416  50.2%     -    0s\n",
      "     0     0  550.00000    0    4  700.00000  550.00000  21.4%     -    0s\n",
      "     0     0  550.00000    0    6  700.00000  550.00000  21.4%     -    0s\n",
      "     0     0  550.00000    0    3  700.00000  550.00000  21.4%     -    0s\n",
      "     0     0  550.00000    0    3  700.00000  550.00000  21.4%     -    0s\n",
      "     0     0  640.00000    0    3  700.00000  640.00000  8.57%     -    0s\n",
      "     0     0  700.00000    0    3  700.00000  700.00000  0.00%     -    0s\n",
      "\n",
      "Cutting planes:\n",
      "  MIR: 10\n",
      "\n",
      "Explored 1 nodes (104 simplex iterations) in 0.07 seconds (0.00 work units)\n",
      "Thread count was 8 (of 8 available processors)\n",
      "\n",
      "Solution count 4: 700 1000 1790 5570 \n",
      "\n",
      "Optimal solution found (tolerance 1.00e-04)\n",
      "Best objective 7.000000000000e+02, best bound 7.000000000000e+02, gap 0.0000%\n"
     ]
    }
   ],
   "source": [
    "# Optimize the model\n",
    "model.optimize()"
   ]
  },
  {
   "cell_type": "markdown",
   "metadata": {},
   "source": [
    "<h3><u>Displaying Results</u></h3>\n",
    "\n",
    "Using the `tabulate` library, we print a table showing the scheduled landing time for each plane, ensuring the total penalty is minimized.\n",
    "\n"
   ]
  },
  {
   "cell_type": "code",
   "execution_count": 112,
   "metadata": {},
   "outputs": [
    {
     "name": "stdout",
     "output_type": "stream",
     "text": [
      "| AIRCRAFT    | SCHEDULED LANDING TIME   |\n",
      "|:------------|:-------------------------|\n",
      "| Aircraft 1  | 165 minutes              |\n",
      "| Aircraft 2  | 258 minutes              |\n",
      "| Aircraft 3  | 96 minutes               |\n",
      "| Aircraft 4  | 106 minutes              |\n",
      "| Aircraft 5  | 118 minutes              |\n",
      "| Aircraft 6  | 126 minutes              |\n",
      "| Aircraft 7  | 134 minutes              |\n",
      "| Aircraft 8  | 142 minutes              |\n",
      "| Aircraft 9  | 150 minutes              |\n",
      "| Aircraft 10 | 180 minutes              |\n",
      "Minimum total penalty: 700.0\n"
     ]
    }
   ],
   "source": [
    "# Output results with the scheduled landing time for each aircraft and the minimum total penalty\n",
    "if model.status == GRB.OPTIMAL:\n",
    "    landing_schedule = model.getAttr('x', landing_times)   # Extract the scheduled landing times for each aircraft\n",
    "    # Prepare the results table\n",
    "    results = []\n",
    "    for plane in range(NUM_PLANES):\n",
    "        results.append([f\"Aircraft {plane + 1}\", f\"{landing_schedule[plane]:4.0f} minutes\"])\n",
    "    print(tabulate(results, headers=[\"AIRCRAFT\", \"SCHEDULED LANDING TIME\"], tablefmt=\"pipe\"))  # Print the results table\n",
    "    print(f\"Minimum total penalty: {model.objVal}\")  # Print the minimum total penalty\n",
    "else:\n",
    "    print(\"Optimal solution not found!\")"
   ]
  },
  {
   "cell_type": "markdown",
   "metadata": {},
   "source": [
    "<h1><u>2nd Problem: Oil delivery planning</h1></u>"
   ]
  },
  {
   "cell_type": "markdown",
   "metadata": {},
   "source": [
    "<h3><u>Defining Input Parameters</h3></u>\n",
    "\n",
    "This section initializes the input data as specified in the problem statement."
   ]
  },
  {
   "cell_type": "code",
   "execution_count": 113,
   "metadata": {},
   "outputs": [],
   "source": [
    "# Define the city locations\n",
    "cities = ['Ω','Α','Β','Γ','Δ','Ε','ΣΤ'] \n",
    "\n",
    "# Define the demand for oil in each city\n",
    "demand = [0,14000,3000,6000,16000,15000,5000]\n",
    "\n",
    "# Define the distances between cities in kilometers\n",
    "distances = [[0, 148, 55, 32, 70, 140, 73],\n",
    "             [148, 0, 93, 180, 99, 12, 72],\n",
    "             [55, 93, 0, 85, 20, 83, 28],\n",
    "             [32, 180, 85, 0, 100, 174, 99],\n",
    "             [70, 99, 20, 100, 0, 85, 49],\n",
    "             [140, 12, 83, 174, 85, 0, 73],\n",
    "             [73, 72, 28, 99, 49, 73, 0]] \n",
    "\n",
    "# Define the capacity of the oil transporter\n",
    "capacity = 39000"
   ]
  },
  {
   "cell_type": "markdown",
   "metadata": {},
   "source": [
    "<h3><u>Building the Model</h3></u>"
   ]
  },
  {
   "cell_type": "code",
   "execution_count": 114,
   "metadata": {},
   "outputs": [],
   "source": [
    "# Create a Gurobi optimization model\n",
    "model = gp.Model(\"oil_transport\") \n",
    "\n",
    "# Get the total number of cities\n",
    "num_locations = len(cities) \n",
    "\n",
    "# Add binary decision variables to represent whether oil is transported between cities\n",
    "transports = model.addVars(num_locations, num_locations, vtype=GRB.BINARY, name='transports')  \n",
    "# Add integer decision variables to represent the sequence of city visits in the transportation route\n",
    "transport_sequence = model.addVars(num_locations, vtype=GRB.INTEGER, name='transport_sequence')"
   ]
  },
  {
   "cell_type": "markdown",
   "metadata": {},
   "source": [
    "<h3><u>Setting Constraints</h3></u>"
   ]
  },
  {
   "cell_type": "code",
   "execution_count": 115,
   "metadata": {},
   "outputs": [],
   "source": [
    "# Add constraint: total demand at the start must not exceed transporter's capacity\n",
    "model.addConstr(gp.quicksum(demand[j] * transports[0, j] for j in range(1, num_locations)) <= capacity, name=\"capacity\")\n",
    "\n",
    "# Add constraint: the first city in the sequence of visited cities must be the city with index 0\n",
    "model.addConstr(transport_sequence[0] == 0)\n",
    "\n",
    "# Add constraints to ensure each location is visited exactly once\n",
    "for j in range(1, num_locations):\n",
    "    model.addConstr(gp.quicksum(transports[i, j] for i in range(num_locations) if i != j) == 1)\n",
    "    model.addConstr(gp.quicksum(transports[j, k] for k in range(num_locations) if k != j) == 1)\n",
    "\n",
    "# Prevent subtours by ensuring each route includes the city O\n",
    "for i in range(1, num_locations):\n",
    "    for j in range(1, num_locations):\n",
    "        if i != j:\n",
    "            model.addConstr(transport_sequence[i] - transport_sequence[j] + capacity * transports[i, j] <= capacity - demand[j], name=f\"subtour_{i}_{j}\")\n",
    "\n",
    "# Load after delivering each city must be at least their demand and within transporter's capacity\n",
    "for i in range(1, num_locations):\n",
    "    model.addConstr(transport_sequence[i] >= demand[i])\n",
    "    model.addConstr(transport_sequence[i] <= capacity) "
   ]
  },
  {
   "cell_type": "markdown",
   "metadata": {},
   "source": [
    "<h3><u>Objective Function Definition</u></h3>\n"
   ]
  },
  {
   "cell_type": "code",
   "execution_count": 116,
   "metadata": {},
   "outputs": [],
   "source": [
    "# Define the objective function: minimize the total distance\n",
    "model.setObjective(gp.quicksum(distances[i][j] * transports[i, j] for i in range(num_locations) for j in range(num_locations) if i != j), GRB.MINIMIZE)"
   ]
  },
  {
   "cell_type": "markdown",
   "metadata": {},
   "source": [
    "<h3><u>Running the Optimization</u></h3>"
   ]
  },
  {
   "cell_type": "code",
   "execution_count": 117,
   "metadata": {},
   "outputs": [
    {
     "name": "stdout",
     "output_type": "stream",
     "text": [
      "Gurobi Optimizer version 11.0.2 build v11.0.2rc0 (win64 - Windows 10.0 (19045.2))\n",
      "\n",
      "CPU model: AMD Ryzen 7 3700U with Radeon Vega Mobile Gfx, instruction set [SSE2|AVX|AVX2]\n",
      "Thread count: 4 physical cores, 8 logical processors, using up to 8 threads\n",
      "\n",
      "Optimize a model with 56 rows, 56 columns and 181 nonzeros\n",
      "Model fingerprint: 0xbfbc67ad\n",
      "Variable types: 0 continuous, 56 integer (49 binary)\n",
      "Coefficient statistics:\n",
      "  Matrix range     [1e+00, 4e+04]\n",
      "  Objective range  [1e+01, 2e+02]\n",
      "  Bounds range     [1e+00, 1e+00]\n",
      "  RHS range        [1e+00, 4e+04]\n",
      "Found heuristic solution: objective 681.0000000\n",
      "Presolve removed 13 rows and 14 columns\n",
      "Presolve time: 0.00s\n",
      "Presolved: 43 rows, 42 columns, 162 nonzeros\n",
      "Variable types: 0 continuous, 42 integer (36 binary)\n",
      "\n",
      "Root relaxation: objective 2.461282e+02, 12 iterations, 0.00 seconds (0.00 work units)\n",
      "\n",
      "    Nodes    |    Current Node    |     Objective Bounds      |     Work\n",
      " Expl Unexpl |  Obj  Depth IntInf | Incumbent    BestBd   Gap | It/Node Time\n",
      "\n",
      "     0     0  246.12821    0   12  681.00000  246.12821  63.9%     -    0s\n",
      "H    0     0                     656.0000000  246.12821  62.5%     -    0s\n",
      "H    0     0                     504.0000000  246.12821  51.2%     -    0s\n",
      "     0     0  289.92308    0   14  504.00000  289.92308  42.5%     -    0s\n",
      "     0     0  312.97436    0   14  504.00000  312.97436  37.9%     -    0s\n",
      "     0     0  362.58974    0   16  504.00000  362.58974  28.1%     -    0s\n",
      "     0     0  408.38462    0   17  504.00000  408.38462  19.0%     -    0s\n",
      "     0     0  408.38462    0   17  504.00000  408.38462  19.0%     -    0s\n",
      "H    0     0                     497.0000000  408.38462  17.8%     -    0s\n",
      "     0     0  436.61538    0   18  497.00000  436.61538  12.1%     -    0s\n",
      "     0     0  450.35897    0   17  497.00000  450.35897  9.38%     -    0s\n",
      "     0     0  497.00000    0   14  497.00000  497.00000  0.00%     -    0s\n",
      "\n",
      "Cutting planes:\n",
      "  Learned: 2\n",
      "  Gomory: 1\n",
      "  Cover: 5\n",
      "  Implied bound: 1\n",
      "  Clique: 1\n",
      "  MIR: 3\n",
      "  RLT: 1\n",
      "  Relax-and-lift: 6\n",
      "\n",
      "Explored 1 nodes (87 simplex iterations) in 0.07 seconds (0.00 work units)\n",
      "Thread count was 8 (of 8 available processors)\n",
      "\n",
      "Solution count 4: 497 504 656 681 \n",
      "\n",
      "Optimal solution found (tolerance 1.00e-04)\n",
      "Best objective 4.970000000000e+02, best bound 4.970000000000e+02, gap 0.0000%\n"
     ]
    }
   ],
   "source": [
    "# Optimize the model\n",
    "model.optimize()"
   ]
  },
  {
   "cell_type": "markdown",
   "metadata": {},
   "source": [
    "<h3><u>Displaying Results</u></h3>"
   ]
  },
  {
   "cell_type": "code",
   "execution_count": 118,
   "metadata": {},
   "outputs": [
    {
     "name": "stdout",
     "output_type": "stream",
     "text": [
      "Minimum distance: 497 km\n",
      "| From City   | Destination   |\n",
      "|:------------|:--------------|\n",
      "| Ω           | Β             |\n",
      "| Ω           | Γ             |\n",
      "| Α           | ΣΤ            |\n",
      "| Β           | Ε             |\n",
      "| Γ           | Δ             |\n",
      "| Δ           | Ω             |\n",
      "| Ε           | Α             |\n",
      "| ΣΤ          | Ω             |\n",
      "Best sequence of visiting the cities:\n",
      "Ω -> Β -> Ε -> Α -> ΣΤ -> Ω -> Γ -> Δ -> Ω\n",
      "Best sequence of visiting the cities in order of routes:\n",
      "Route from Ω to Β\n",
      "Route from Ω to Γ\n",
      "Route from Α to ΣΤ\n",
      "Route from Β to Ε\n",
      "Route from Γ to Δ\n",
      "Route from Δ to Ω\n",
      "Route from Ε to Α\n",
      "Route from ΣΤ to Ω\n"
     ]
    }
   ],
   "source": [
    "# Output results\n",
    "if model.status == GRB.OPTIMAL:\n",
    "    print('Minimum distance: %g km' % model.objVal)  # Print the minimum distance achieved by the optimized model\n",
    "    best_routes = model.getAttr('x', transports)\n",
    "\n",
    "    # Create lists to store routes and a table for printing\n",
    "    array_of_routes = []  # Empty list to store route indices\n",
    "    route_table = []  # Empty list to store routes for printing\n",
    "    \n",
    "    # Extract best routes\n",
    "    for i in range(num_locations):\n",
    "        for j in range(num_locations):\n",
    "            if i != j and best_routes[i, j] > 0.5:  # Check if a route exists between cities i and j\n",
    "                route_table.append((cities[i], cities[j]))  \n",
    "                array_of_routes.append((i, j))\n",
    "\n",
    "    print(tabulate(route_table, headers=[\"From City\", \"Destination\"], tablefmt=\"pipe\"))  \n",
    "\n",
    "    # Define a function to find a route starting from a given city\n",
    "    def find_route(start, remaining_routes): \n",
    "        route = [start]  # Start the route with the given city\n",
    "        while True:\n",
    "            current_route = False\n",
    "            for idx, route_connection in enumerate(remaining_routes):\n",
    "                if route_connection[0] == start:  # Check if the route starts from the current city\n",
    "                    route.append(route_connection[1])  \n",
    "                    start = route_connection[1]  \n",
    "                    del remaining_routes[idx]  \n",
    "                    current_route = True\n",
    "                    break\n",
    "            if not current_route:\n",
    "                break\n",
    "        return route  \n",
    "\n",
    "    routes_to_process = array_of_routes.copy() \n",
    "    found_routes = []  \n",
    "\n",
    "    # Find all routes starting from each city\n",
    "    while routes_to_process: \n",
    "        starting_city = routes_to_process[0][0]  \n",
    "        route = find_route(starting_city, routes_to_process)  \n",
    "        found_routes.append(route)  \n",
    "\n",
    "    print('Best sequence of visiting the cities:') \n",
    "    for route in found_routes:\n",
    "        city_sequence = [cities[i] for i in route]  \n",
    "        print(\" -> \".join(city_sequence))  # Print route in the desired format\n",
    "\n",
    "    print('Best sequence of visiting the cities in order of routes:') \n",
    "    for route in route_table:\n",
    "        print(\"Route from\", route[0], \"to\", route[1])  # Print route in the desired format\n",
    "\n",
    "else:\n",
    "    print(\"No optimal solution found!\")\n"
   ]
  }
 ],
 "metadata": {
  "kernelspec": {
   "display_name": "Python 3",
   "language": "python",
   "name": "python3"
  },
  "language_info": {
   "codemirror_mode": {
    "name": "ipython",
    "version": 3
   },
   "file_extension": ".py",
   "mimetype": "text/x-python",
   "name": "python",
   "nbconvert_exporter": "python",
   "pygments_lexer": "ipython3",
   "version": "3.12.3"
  }
 },
 "nbformat": 4,
 "nbformat_minor": 2
}
